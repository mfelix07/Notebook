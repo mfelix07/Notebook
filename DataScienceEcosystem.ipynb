{
 "cells": [
  {
   "cell_type": "markdown",
   "id": "c25764a7-9997-4159-83a4-610ebd34260b",
   "metadata": {},
   "source": [
    "# Data Science Tools and Ecosystem"
   ]
  },
  {
   "cell_type": "markdown",
   "id": "fcfe52a5-182f-4c73-811e-cf15a8a12670",
   "metadata": {
    "tags": []
   },
   "source": [
    "In this notebook, Date Science Tools and Ecosystem are summarized."
   ]
  },
  {
   "cell_type": "markdown",
   "id": "4a5225de-58e9-44f2-b303-d8ef4532f994",
   "metadata": {},
   "source": [
    "**Objectives:**\n",
    "* List popular languages for Data Science\n",
    "* List popular libraries for Data Science\n",
    "* Evaluate arithmetic expression in python"
   ]
  },
  {
   "cell_type": "markdown",
   "id": "988bcc7d-b13c-4c9a-a7af-b853145a0924",
   "metadata": {
    "tags": []
   },
   "source": [
    "Some of the popular languages that Date Scientists use are:"
   ]
  },
  {
   "cell_type": "markdown",
   "id": "0a4f5615-b6bd-4c37-9bb5-a1f574531a12",
   "metadata": {},
   "source": [
    "1. Python\n",
    "2. R\n",
    "3. SQL"
   ]
  },
  {
   "cell_type": "markdown",
   "id": "c464cf3d-009b-40fe-8a43-7771facf671f",
   "metadata": {},
   "source": [
    "Some of the commonly used libraries used by Data Scientists include:"
   ]
  },
  {
   "cell_type": "markdown",
   "id": "445d0f2c-237a-4721-9f9e-c4f06b1268c6",
   "metadata": {},
   "source": [
    "1. NumPy\n",
    "2. SciPy\n",
    "3. Matplotlib"
   ]
  },
  {
   "cell_type": "markdown",
   "id": "037e4316-163c-46a1-a54a-c47fa71dce6c",
   "metadata": {},
   "source": [
    "| Data Science Tools |\n",
    "| --- |\n",
    "| RStudio |\n",
    "| Apache Spark |\n",
    "| TensorFlow |"
   ]
  },
  {
   "cell_type": "markdown",
   "id": "f71963cc-532e-4a67-81a3-0a74c1418096",
   "metadata": {},
   "source": [
    "### Below are a few examples of evaluating arithmetic expressions in Python"
   ]
  },
  {
   "cell_type": "code",
   "execution_count": 9,
   "id": "9d56df77-c0fe-47f1-8e31-c66a5b640dae",
   "metadata": {
    "tags": []
   },
   "outputs": [
    {
     "data": {
      "text/plain": [
       "17"
      ]
     },
     "execution_count": 9,
     "metadata": {},
     "output_type": "execute_result"
    }
   ],
   "source": [
    "#This a simple arithmetic expression to mutiply then add integers \n",
    "(3*4)+5"
   ]
  },
  {
   "cell_type": "code",
   "execution_count": 11,
   "id": "74b4607e-acee-4489-8889-b149455453ea",
   "metadata": {
    "tags": []
   },
   "outputs": [
    {
     "data": {
      "text/plain": [
       "3.3333333333333335"
      ]
     },
     "execution_count": 11,
     "metadata": {},
     "output_type": "execute_result"
    }
   ],
   "source": [
    "#This will convert 200 minutes to hours by dividing by 60\n",
    "200/60\n"
   ]
  },
  {
   "cell_type": "markdown",
   "id": "6decbf0a-3bbb-4b49-abd2-5dafa21dbba9",
   "metadata": {
    "tags": []
   },
   "source": [
    "## Author \n",
    "Marcos Felix"
   ]
  },
  {
   "cell_type": "code",
   "execution_count": null,
   "id": "3b2faa04-50bc-44b9-9fb5-c5b27a13574d",
   "metadata": {},
   "outputs": [],
   "source": []
  }
 ],
 "metadata": {
  "kernelspec": {
   "display_name": "Python",
   "language": "python",
   "name": "conda-env-python-py"
  },
  "language_info": {
   "codemirror_mode": {
    "name": "ipython",
    "version": 3
   },
   "file_extension": ".py",
   "mimetype": "text/x-python",
   "name": "python",
   "nbconvert_exporter": "python",
   "pygments_lexer": "ipython3",
   "version": "3.7.12"
  }
 },
 "nbformat": 4,
 "nbformat_minor": 5
}
